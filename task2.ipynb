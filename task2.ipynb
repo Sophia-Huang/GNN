{
 "cells": [
  {
   "cell_type": "markdown",
   "metadata": {},
   "source": [
    "### 1. 请总结MessagePassing基类的运行流程。"
   ]
  },
  {
   "cell_type": "markdown",
   "metadata": {},
   "source": [
    "消息传递图神经网络是一种通过聚合邻接节点信息来更新中心节点信息的过程，用公式可以表示为：\n",
    "$$\n",
    "    \\mathbf{x}_i^{(k)} = \\gamma^{(k)} \\left( \\mathbf{x}_i^{(k-1)}, \\square_{j \\in \\mathcal{N}(i)} \\, \\phi^{(k)}\\left(\\mathbf{x}_i^{(k-1)}, \\mathbf{x}_j^{(k-1)},\\mathbf{e}_{j,i}\\right) \\right)\n",
    "$$\n",
    "\n",
    "其中输入为：\n",
    "+ $\\mathbf{x}^{(k-1)}_i\\in\\mathbb{R}^F$：第(k-1)层中节点i的表征\n",
    "+ $\\mathbf{e}_{j,i} \\in \\mathbb{R}^D$：从节点j到节点i的边的属性\n",
    "\n",
    "输出为：\n",
    "+ $\\mathbf{x}^{(k)}_i\\in\\mathbb{R}^F$：第(k)层中节点i的表征\n",
    "\n",
    "根据这一公式，MessagePassing的运行流程为：\n",
    "1. 定义message函数，对节点输入进行自定义变换，相当于上述公式中的$\\phi^{(k)}$，例如线性投影。\n",
    "2. 定义aggregation函数，对变换后的邻居节点信息进行聚合，相当于上述公式中的$\\square_{j \\in \\mathcal{N}(i)}$，例如sum、max、mean。\n",
    "3. 定义update函数，将上一层节点信息$\\mathbf{x}_i^{(k-1)}$与聚合邻居节点信息$\\square_{j \\in \\mathcal{N}(i)} \\, \\phi^{(k)}\\left(\\mathbf{x}_i^{(k-1)}, \\mathbf{x}_j^{(k-1)},\\mathbf{e}_{j,i}\\right)$结合起来，更新得到下一层节点信息$\\mathbf{x}_i^{(k)}$。"
   ]
  },
  {
   "cell_type": "markdown",
   "metadata": {},
   "source": [
    "### 2. 请复现一个一层的图神经网络的构造，总结通过继承MessagePassing基类来构造自己的图神经网络类的规范。"
   ]
  },
  {
   "cell_type": "markdown",
   "metadata": {},
   "source": [
    "我们尝试复现GraphSAGE，其伪代码如下所示：\n",
    "<img src=\"./images/GraphSAGE.PNG\", width=700, align=\"left\">"
   ]
  },
  {
   "cell_type": "markdown",
   "metadata": {},
   "source": [
    "仿照上一题的思路，将流程进行拆解：\n",
    "1. message函数：这里没有对节点进行变换，直接输出。\n",
    "2. Aggregation函数：这边使用mean，直接调用自带的函数，输入参数aggr='mean'\n",
    "3. update函数：将聚合后的节点表征与原始表征拼接cat，再输入线性变换lin和激活函数act，最后进行归一化。"
   ]
  },
  {
   "cell_type": "code",
   "execution_count": 5,
   "metadata": {
    "collapsed": true
   },
   "outputs": [],
   "source": [
    "import torch\n",
    "from torch.nn import Linear, ReLU\n",
    "from torch.nn import functional as F\n",
    "from torch_geometric.nn import MessagePassing\n",
    "\n",
    "\n",
    "class SAGEConv(MessagePassing):\n",
    "    def __init__(self, in_channels, out_channels):\n",
    "        super(SAGEConv, self).__init__(aggr='mean') \n",
    "        self.lin = torch.nn.Linear(in_channels + out_channels, out_channels, bias=False)\n",
    "        self.act = torch.nn.ReLU()\n",
    "        \n",
    "    def forward(self, x, edge_index):\n",
    "        return self.propagate(edge_index, size=(x.size(0), x.size(0)), x=x)\n",
    "\n",
    "    def message(self, x_j):\n",
    "        return x_j\n",
    "\n",
    "    def update(self, aggr_out, x):\n",
    "        aggr_out = torch.cat([aggr_out, x], dim=1)\n",
    "        \n",
    "        aggr_out = self.lin(aggr_out)\n",
    "        aggr_out = self.act(aggr_out)\n",
    "        \n",
    "        aggr_out = F.normalize(aggr_out, p=2, dim=1) \n",
    "        return aggr_out"
   ]
  },
  {
   "cell_type": "code",
   "execution_count": null,
   "metadata": {
    "collapsed": true
   },
   "outputs": [],
   "source": []
  }
 ],
 "metadata": {
  "kernelspec": {
   "display_name": "Python 3",
   "language": "python",
   "name": "python3"
  },
  "language_info": {
   "codemirror_mode": {
    "name": "ipython",
    "version": 3
   },
   "file_extension": ".py",
   "mimetype": "text/x-python",
   "name": "python",
   "nbconvert_exporter": "python",
   "pygments_lexer": "ipython3",
   "version": "3.6.1"
  },
  "toc": {
   "base_numbering": 1,
   "nav_menu": {},
   "number_sections": true,
   "sideBar": true,
   "skip_h1_title": false,
   "title_cell": "Table of Contents",
   "title_sidebar": "Contents",
   "toc_cell": false,
   "toc_position": {},
   "toc_section_display": true,
   "toc_window_display": false
  }
 },
 "nbformat": 4,
 "nbformat_minor": 2
}
